{
 "cells": [
  {
   "cell_type": "code",
   "execution_count": 2,
   "metadata": {
    "collapsed": true
   },
   "outputs": [],
   "source": [
    "##Unfair Casino##"
   ]
  },
  {
   "cell_type": "code",
   "execution_count": 3,
   "metadata": {
    "collapsed": true
   },
   "outputs": [],
   "source": [
    "import numpy as np\n",
    "import scipy\n",
    "import random\n",
    "import matplotlib.pyplot as plt\n",
    "import copy\n",
    "%matplotlib inline"
   ]
  },
  {
   "cell_type": "code",
   "execution_count": 4,
   "metadata": {
    "collapsed": true
   },
   "outputs": [],
   "source": [
    "#Имеем 2 матрицы \n",
    "A = scipy.array([[0.95,0.05],[0.1,0.9]])\n",
    "E = scipy.array([[1/6,1/6,1/6,1/6,1/6,1/6],[1/10,1/10,1/10,1/10,1/10,1/2]])#верояности для правильной и неправильной"
   ]
  },
  {
   "cell_type": "code",
   "execution_count": 5,
   "metadata": {},
   "outputs": [
    {
     "name": "stdout",
     "output_type": "stream",
     "text": [
      "[[ 0.95  0.05]\n",
      " [ 0.1   0.9 ]]\n",
      "[[ 0.16666667  0.16666667  0.16666667  0.16666667  0.16666667  0.16666667]\n",
      " [ 0.1         0.1         0.1         0.1         0.1         0.5       ]]\n"
     ]
    }
   ],
   "source": [
    "print(A)\n",
    "print(E)"
   ]
  },
  {
   "cell_type": "code",
   "execution_count": 6,
   "metadata": {
    "collapsed": true
   },
   "outputs": [],
   "source": [
    "n = len(A)# Найдем стационарное распределение \n",
    "def stationary_distribution(A):\n",
    "    n = len(A)\n",
    "    M1 = np.vstack(((A.transpose() - np.eye(n))[:-1],np.ones(n)))\n",
    "    v1 = np.eye(n)[-1]\n",
    "    p = np.linalg.solve(M1,v1)\n",
    "    return p"
   ]
  },
  {
   "cell_type": "code",
   "execution_count": 7,
   "metadata": {
    "collapsed": true
   },
   "outputs": [],
   "source": [
    "s=stationary_distribution(A)"
   ]
  },
  {
   "cell_type": "code",
   "execution_count": 8,
   "metadata": {
    "collapsed": true
   },
   "outputs": [],
   "source": [
    "#функция создания вектора наблюдения x и вектора состояний y\n",
    "#0-нечестный кубик, 1-честный кубик\n",
    "#x[i] какое число выпало на кубике\n",
    "n=200 #длина последовательности\n",
    "x=np.zeros(n, dtype = 'int')\n",
    "y=np.zeros(n, dtype = 'int')\n",
    "k=random.random()\n",
    "\n",
    "if k < s[0]: \n",
    "    y[0]=0\n",
    "    t=random.randint(1,6)\n",
    "    x[0]=t\n",
    "elif k >= s[0]:\n",
    "    y[0]=1\n",
    "    r=random.randint(1,10)\n",
    "    if r<6:\n",
    "        x[0]=r\n",
    "    else: \n",
    "        x[0]=6 #Нашли первые элементы"
   ]
  },
  {
   "cell_type": "code",
   "execution_count": 9,
   "metadata": {
    "collapsed": true
   },
   "outputs": [],
   "source": [
    "i=1 #найдем остальные элементы векторов \n",
    "while i < n:\n",
    "    if y[i-1]==0:\n",
    "        r1=random.randint(1,20)\n",
    "        if r1<19:\n",
    "            y[i]=0\n",
    "        elif r1==20:\n",
    "            y[i]=1\n",
    "    elif y[i-1]==1:        \n",
    "        t=random.randint(1,10) \n",
    "        if t==1:\n",
    "            y[i]=0\n",
    "        elif t >= 2:\n",
    "            y[i]=1\n",
    "    if y[i]==0:\n",
    "        t1=random.randint(1,6)\n",
    "        x[i]=t1\n",
    "        \n",
    "    elif y[i]==1:\n",
    "        r2=random.randint(1,10)\n",
    "        if r2<6:\n",
    "            x[i]=r2\n",
    "        else: \n",
    "            x[i]=6    \n",
    "    i=i+1"
   ]
  },
  {
   "cell_type": "code",
   "execution_count": 10,
   "metadata": {},
   "outputs": [
    {
     "name": "stdout",
     "output_type": "stream",
     "text": [
      "Наблюдения: 1 4 3 3 3 5 2 6 6 6 5 4 6 5 4 3 6 4 3 4 5 4 5 6 3 3 4 5 5 6 6 6 4 3 1 3 4 1 1 6 6 1 3 5 5 5 6 6 4 6 6 5 3 6 6 5 6 6 3 6 6 2 6 6 2 6 3 2 3 4 1 3 5 3 6 1 5 6 5 5 1 3 1 6 5 3 5 3 4 6 5 5 1 4 2 6 5 4 4 1 6 4 1 2 3 6 4 2 4 6 6 3 6 4 6 6 1 2 2 3 2 4 2 5 1 5 2 4 6 2 4 4 5 5 5 6 3 6 6 3 2 2 3 4 1 3 1 4 6 2 3 4 5 3 4 6 4 5 6 6 1 6 6 4 6 1 3 6 2 3 6 5 2 3 4 2 5 4 3 5 5 6 6 6 1 6 4 2 6 2 5 2 1 3 6 5 1 1 3 1 \n",
      "\n",
      "Состояния: 1 1 1 1 1 1 0 0 1 1 0 0 0 0 0 0 0 0 0 0 0 0 0 0 0 0 0 0 0 0 0 0 0 0 0 0 0 0 0 0 1 1 0 0 0 0 1 1 1 1 1 1 1 1 1 1 1 1 0 1 1 1 1 1 1 1 1 1 0 0 0 0 0 0 0 0 0 0 0 0 0 0 0 0 0 0 0 0 0 0 0 0 0 0 0 0 0 0 0 0 0 0 0 0 0 0 0 0 0 0 0 0 0 0 0 0 0 0 0 0 0 0 0 0 0 0 0 0 0 0 0 0 0 0 0 0 0 0 0 0 0 0 0 0 0 0 0 0 0 0 0 0 0 0 0 1 1 1 1 1 1 1 1 1 1 1 1 1 1 0 0 0 0 0 0 0 0 0 0 0 0 1 1 1 1 1 1 1 1 1 1 0 0 0 0 0 0 0 0 0\n"
     ]
    }
   ],
   "source": [
    "print('Наблюдения:',*x, '\\n')\n",
    "print('Состояния:', *y) #0-неправильная, 1-правильная\n",
    "#получили первый:вектор наблюдения, второй: вектор состояния"
   ]
  },
  {
   "cell_type": "code",
   "execution_count": 11,
   "metadata": {
    "collapsed": true
   },
   "outputs": [],
   "source": [
    "#Алгоритм Витерби\n",
    "#Найдем наиболее вероятную последовательность состояний при данной последовательности наблюдения(х)\n",
    "n=200\n",
    "V=np.zeros((2, n))\n",
    "P=np.zeros((2, n))"
   ]
  },
  {
   "cell_type": "code",
   "execution_count": 12,
   "metadata": {
    "collapsed": true
   },
   "outputs": [],
   "source": [
    "def Viterby(x, A, E):\n",
    "    n = len(x)\n",
    "    V=np.zeros((2, n))\n",
    "    P=np.zeros((2, n), dtype = 'int')\n",
    "    V[:, 0] = s*E[:, x[0] - 1]\n",
    "    n = len(x)\n",
    "    m = np.zeros(n)\n",
    "    m[0] = np.max(V[:, 0])\n",
    "    V[:, 0] /= m[0]\n",
    "    for i_1 in range(1, n):\n",
    "        for j_1 in range(2):\n",
    "            S = E[j_1, x[i_1]-1]*V[:, i_1-1]*A[:, j_1]\n",
    "            #S = E[j, x[i_1-1]]*V[:, i_1-1]*A[:, j_1]\n",
    "            V[j_1,i_1] = np.max(S)\n",
    "            P[j_1,i_1] = np.argmax(S)\n",
    "    p0 = np.zeros(n, dtype = int)\n",
    "    p0[-1] = np.argmax(V[:,-1])\n",
    "    for i_1 in range(n-2,-1,-1):\n",
    "        p0[i_1] = P[int(p0[i_1+1]),i_1+1]\n",
    "    return p0"
   ]
  },
  {
   "cell_type": "code",
   "execution_count": 13,
   "metadata": {
    "collapsed": true
   },
   "outputs": [],
   "source": [
    "V_b = Viterby(x, A, E)"
   ]
  },
  {
   "cell_type": "code",
   "execution_count": 14,
   "metadata": {
    "scrolled": false
   },
   "outputs": [
    {
     "name": "stdout",
     "output_type": "stream",
     "text": [
      "Состояния, согласно алгоритму Viterby: 0 0 0 0 0 0 0 0 0 0 0 0 0 0 0 0 0 0 0 0 0 0 0 0 0 0 0 0 0 0 0 0 0 0 0 0 0 0 0 0 0 0 0 0 0 0 1 1 1 1 1 1 1 1 1 1 1 1 1 1 1 1 1 1 1 1 0 0 0 0 0 0 0 0 0 0 0 0 0 0 0 0 0 0 0 0 0 0 0 0 0 0 0 0 0 0 0 0 0 0 0 0 0 0 0 0 0 0 0 0 0 0 0 0 0 0 0 0 0 0 0 0 0 0 0 0 0 0 0 0 0 0 0 0 0 0 0 0 0 0 0 0 0 0 0 0 0 0 0 0 0 0 0 0 0 0 0 0 0 0 0 0 0 0 0 0 0 0 0 0 0 0 0 0 0 0 0 0 0 0 0 0 0 0 0 0 0 0 0 0 0 0 0 0 0 0 0 0 0 0\n"
     ]
    }
   ],
   "source": [
    "print('Состояния, согласно алгоритму Viterby:',*V_b, sep=\" \")"
   ]
  },
  {
   "cell_type": "code",
   "execution_count": 15,
   "metadata": {
    "collapsed": true
   },
   "outputs": [],
   "source": [
    "def P_Viterby(y, p0):\n",
    "    n = len(y)\n",
    "    s = 0\n",
    "    for i in range(n):\n",
    "        if y[i] == p0[i]:\n",
    "            s+=1\n",
    "    return round(s/n,2)\n"
   ]
  },
  {
   "cell_type": "code",
   "execution_count": 16,
   "metadata": {},
   "outputs": [
    {
     "name": "stdout",
     "output_type": "stream",
     "text": [
      "Вероятность сопадений состояний: 0.81\n"
     ]
    }
   ],
   "source": [
    "P_V = np.zeros(n)\n",
    "for t in range(n):\n",
    "    P_V[t] = P_Viterby(y, V_b)\n",
    "#P_V\n",
    "e0=sum(P_V)/n\n",
    "print('Вероятность сопадений состояний:', e0)"
   ]
  },
  {
   "cell_type": "code",
   "execution_count": 17,
   "metadata": {},
   "outputs": [
    {
     "data": {
      "image/png": "[encoded data removed]",
      "text/plain": [
       "<matplotlib.figure.Figure at 0x8318afa4e0>"
      ]
     },
     "metadata": {},
     "output_type": "display_data"
    }
   ],
   "source": [
    "rng = np.arange(200)\n",
    "yrs = 1 + rng\n",
    "fig, ax = plt.subplots(figsize=(8, 3))\n",
    "ax.plot(yrs,y, \"-\", color = 'grey')\n",
    "ax.plot(yrs,V_b, color = 'blue')\n",
    "ax.set_title('Анализ алгоритма Витерби')\n",
    "fig.tight_layout() \n",
    "plt.show()"
   ]
  },
  {
   "cell_type": "code",
   "execution_count": 18,
   "metadata": {
    "collapsed": true
   },
   "outputs": [],
   "source": [
    "#Алгоритм Форвард \n",
    "#найдем вероятность попадания в y[i] зная x[0],..,x[i]\n",
    "V1=np.zeros((2, n))\n",
    "V1[0,0]=s[0]*E[0, x[0]-1]\n",
    "V1[1,0]=s[1]*E[1, x[0]-1]\n",
    "#добавляем нормировку \n",
    "norm=np.zeros(n)\n",
    "norm[0]=max([s[0]*E[0,x[0]-1],s[1]*E[1,x[0]-1]])\n",
    "V1[0,0]/=norm[0]\n",
    "V1[1,0]/=norm[0]"
   ]
  },
  {
   "cell_type": "code",
   "execution_count": 19,
   "metadata": {
    "collapsed": true
   },
   "outputs": [],
   "source": [
    "for j in range(1,len(x)):\n",
    "    s1 = np.array([A[0,0]*V1[0,j-1],A[1,0]*V1[1,j-1]])\n",
    "    s2 = np.array([A[0,1]*V1[0,j-1],A[1,1]*V1[1,j-1]])\n",
    "    V1[0,j]=E[0,x[j]-1]*np.sum(s1)\n",
    "    V1[1,j]=E[1,x[j]-1]*np.sum(s2)\n",
    "    norm[j]=max(V1[0,j],V1[1,j])\n",
    "    V1[0,j]/=norm[j]\n",
    "    V1[1,j]/=norm[j]\n",
    "p1 = V1[0,n-1]+V1[1,n-1]"
   ]
  },
  {
   "cell_type": "code",
   "execution_count": 20,
   "metadata": {
    "collapsed": true
   },
   "outputs": [],
   "source": [
    "#Алгоритм обратного хода\n",
    "V2=np.zeros((2, n))\n",
    "norm1=np.zeros(n)\n",
    "norm1[n-1]=1\n",
    "V2[0,n-1]=1\n",
    "V2[1,n-1]=1"
   ]
  },
  {
   "cell_type": "code",
   "execution_count": 21,
   "metadata": {
    "collapsed": true
   },
   "outputs": [],
   "source": [
    "for u in range(n-2,-1,-1):\n",
    "    sr = np.array([A[0,0]*V2[0,u+1]*E[0,x[u+1]-1], A[0,1]*V2[1,u+1]*E[1,x[u+1]-1]])\n",
    "    st = np.array([A[1,0]*V2[0,u+1]*E[0,x[u+1]-1], A[1,1]*V2[1,u+1]*E[1,x[u+1]-1]])\n",
    "    V2[0,u] = np.sum(sr)\n",
    "    V2[1,u] = np.sum(st)\n",
    "    norm1[u] = max(V2[0,u],V2[1,u])\n",
    "    V2[0,u] /= norm1[u]\n",
    "    V2[1,u] /= norm1[u]\n",
    "p2=s[0]*V2[0,0]*E[0,x[0]-1]+s[1]*V2[1,0]*E[1,x[0]-1]"
   ]
  },
  {
   "cell_type": "code",
   "execution_count": 22,
   "metadata": {},
   "outputs": [
    {
     "name": "stdout",
     "output_type": "stream",
     "text": [
      "Логарифм вероятности наблодения для алгоритма Forward -350.654309524\n",
      "Логарифм вероятности наблодения для алгоритма Backward -350.654309524\n",
      "Вероятности равны\n"
     ]
    }
   ],
   "source": [
    "print('Логарифм вероятности наблодения для алгоритма Forward', np.log(p1)+np.sum(np.log(norm)))\n",
    "print('Логарифм вероятности наблодения для алгоритма Backward', np.log(p2)+np.sum(np.log(norm1)))\n",
    "print('Вероятности равны')"
   ]
  },
  {
   "cell_type": "code",
   "execution_count": 23,
   "metadata": {
    "collapsed": true
   },
   "outputs": [],
   "source": [
    "#Апостериорное дешифрование\n",
    "pr=np.zeros(n)\n",
    "for k in range(n):\n",
    "    pr[k]=np.exp(np.log(V1[0,k]) + np.sum(np.log(norm[:k+1])) + np.log(V2[0,k]) - np.log(p2) - np.sum(np.log(norm1[:k])))"
   ]
  },
  {
   "cell_type": "code",
   "execution_count": 24,
   "metadata": {},
   "outputs": [
    {
     "name": "stdout",
     "output_type": "stream",
     "text": [
      "Вероятности выпадания верной кости на кажлом шаге [ 0.90133657  0.91631039  0.91634535  0.90145379  0.86637696  0.79872793\n",
      "  0.67461728  0.45021694  0.38623642  0.40433094  0.52665741  0.58354192\n",
      "  0.59507249  0.71173115  0.77070691  0.79282633  0.78590059  0.86227541\n",
      "  0.90292562  0.92220631  0.92692622  0.91875212  0.89479742  0.84660283\n",
      "  0.86844606  0.86858381  0.84706474  0.79628965  0.69832798  0.5185858\n",
      "  0.47526778  0.51533055  0.6878314   0.78102391  0.82781783  0.84473785\n",
      "  0.83775905  0.80441696  0.73293724  0.59807774  0.57685068  0.64326334\n",
      "  0.66445849  0.64792093  0.58781064  0.46290042  0.22907984  0.15328322\n",
      "  0.14269687  0.08805318  0.0800349   0.10882356  0.10041549  0.05184148\n",
      "  0.03994196  0.05014585  0.03036526  0.02995955  0.04843194  0.03726697\n",
      "  0.04706208  0.08981146  0.09454261  0.14575583  0.3061622   0.38473134\n",
      "  0.64058074  0.78242925  0.86036887  0.90192299  0.92176592  0.92690492\n",
      "  0.91915478  0.89577863  0.84852148  0.87090094  0.87179209  0.85150961\n",
      "  0.90087777  0.92627492  0.93666973  0.93573299  0.92313391  0.89442328\n",
      "  0.92667813  0.94248056  0.94741099  0.94321054  0.92839588  0.89773539\n",
      "  0.92737005  0.94125756  0.94430209  0.9375788   0.91871342  0.88104391\n",
      "  0.90704769  0.91536931  0.90894745  0.88551431  0.83679477  0.8593741\n",
      "  0.85918114  0.83614775  0.78213999  0.6780857   0.67268104  0.62775737\n",
      "  0.52745048  0.33633825  0.28296579  0.30197799  0.27585136  0.32008241\n",
      "  0.31743338  0.39698926  0.656167    0.80039513  0.88060598  0.92512499\n",
      "  0.94967349  0.96292047  0.96954391  0.97188281  0.97076313  0.96578945\n",
      "  0.95520539  0.93527332  0.89895449  0.92302613  0.93188891  0.92867261\n",
      "  0.91224145  0.87679295  0.80980895  0.68763488  0.67202224  0.61447157\n",
      "  0.64263719  0.79100818  0.87334209  0.91871409  0.94314672  0.95526805\n",
      "  0.95935858  0.95686283  0.94689945  0.92595001  0.88661646  0.91021006\n",
      "  0.91693339  0.90916072  0.88414722  0.83305971  0.73785727  0.56492037\n",
      "  0.5251976   0.42819351  0.23965236  0.18279718  0.18800827  0.15032867\n",
      "  0.16546465  0.25195037  0.28259476  0.41796071  0.48151883  0.49571385\n",
      "  0.61563169  0.67328774  0.68904252  0.81142839  0.87862692  0.91436841\n",
      "  0.93127451  0.93531539  0.92791804  0.90647017  0.86339776  0.78349032\n",
      "  0.63852956  0.37732443  0.29639331  0.29663523  0.37834645  0.40509201\n",
      "  0.54420756  0.61240529  0.63376838  0.76857579  0.84152841  0.87838854\n",
      "  0.89217286  0.88774913  0.86355515  0.90629967  0.92748981  0.93460857\n",
      "  0.93016987  0.91260624]\n"
     ]
    }
   ],
   "source": [
    "print('Вероятности выпадания верной кости на кажлом шаге', pr)"
   ]
  },
  {
   "cell_type": "code",
   "execution_count": 25,
   "metadata": {},
   "outputs": [
    {
     "data": {
      "image/png": "[encoded data removed]",
      "text/plain": [
       "<matplotlib.figure.Figure at 0x8318b23da0>"
      ]
     },
     "metadata": {},
     "output_type": "display_data"
    }
   ],
   "source": [
    "fig, ax = plt.subplots(figsize=(8, 3))\n",
    "xp = np.arange(n)\n",
    "for i in range(n):\n",
    "    if y[i]==1:\n",
    "        ax.vlines(i,0,1,linewidth = 1000/n, color = 'lightgrey' )\n",
    "ax.plot(xp, pr)\n",
    "ax.set_title('Анализ апостериорного декодирования')\n",
    "plt.style.use('fast')\n",
    "fig.set_figwidth(10)\n",
    "plt.show()"
   ]
  },
  {
   "cell_type": "code",
   "execution_count": null,
   "metadata": {
    "collapsed": true
   },
   "outputs": [],
   "source": []
  }
 ],
 "metadata": {
  "kernelspec": {
   "display_name": "Python 3",
   "language": "python",
   "name": "python3"
  },
  "language_info": {
   "codemirror_mode": {
    "name": "ipython",
    "version": 3
   },
   "file_extension": ".py",
   "mimetype": "text/x-python",
   "name": "python",
   "nbconvert_exporter": "python",
   "pygments_lexer": "ipython3",
   "version": "3.6.3"
  }
 },
 "nbformat": 4,
 "nbformat_minor": 2
}
